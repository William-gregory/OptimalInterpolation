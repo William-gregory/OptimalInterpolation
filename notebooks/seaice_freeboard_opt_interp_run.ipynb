{
 "cells": [
  {
   "cell_type": "markdown",
   "metadata": {
    "id": "OloXur9Tew-W"
   },
   "source": [
    "install required packages"
   ]
  },
  {
   "cell_type": "code",
   "execution_count": 1,
   "metadata": {
    "colab": {
     "base_uri": "https://localhost:8080/",
     "height": 35
    },
    "executionInfo": {
     "elapsed": 20,
     "status": "ok",
     "timestamp": 1659432973927,
     "user": {
      "displayName": "Ronald MacEachern",
      "userId": "07664735399186169272"
     },
     "user_tz": -60
    },
    "id": "GF0GW-sOk-2O",
    "outputId": "73651f20-6129-405e-a4f2-a11e1f4053b0"
   },
   "outputs": [
    {
     "output_type": "execute_result",
     "data": {
      "text/plain": [
       "'3.7.13 (default, Apr 24 2022, 01:04:09) \\n[GCC 7.5.0]'"
      ],
      "application/vnd.google.colaboratory.intrinsic+json": {
       "type": "string"
      }
     },
     "metadata": {},
     "execution_count": 1
    }
   ],
   "source": [
    "import sys\n",
    "sys.version\n"
   ]
  },
  {
   "cell_type": "code",
   "execution_count": 2,
   "metadata": {
    "colab": {
     "base_uri": "https://localhost:8080/"
    },
    "executionInfo": {
     "elapsed": 6424,
     "status": "ok",
     "timestamp": 1659432980333,
     "user": {
      "displayName": "Ronald MacEachern",
      "userId": "07664735399186169272"
     },
     "user_tz": -60
    },
    "id": "34DDY7AYW-BL",
    "outputId": "236fb8e7-d1c6-4dab-b2db-e925f577ab9f"
   },
   "outputs": [
    {
     "output_type": "stream",
     "name": "stdout",
     "text": [
      "Looking in indexes: https://pypi.org/simple, https://us-python.pkg.dev/colab-wheels/public/simple/\n",
      "Requirement already satisfied: gpflow==2.5.2 in /usr/local/lib/python3.7/dist-packages (2.5.2)\n",
      "Requirement already satisfied: setuptools>=41.0.0 in /usr/local/lib/python3.7/dist-packages (from gpflow==2.5.2) (57.4.0)\n",
      "Requirement already satisfied: lark>=1.1.0 in /usr/local/lib/python3.7/dist-packages (from gpflow==2.5.2) (1.1.2)\n",
      "Requirement already satisfied: tabulate in /usr/local/lib/python3.7/dist-packages (from gpflow==2.5.2) (0.8.10)\n",
      "Requirement already satisfied: scipy in /usr/local/lib/python3.7/dist-packages (from gpflow==2.5.2) (1.7.3)\n",
      "Requirement already satisfied: tensorflow-probability>=0.12.0 in /usr/local/lib/python3.7/dist-packages (from gpflow==2.5.2) (0.16.0)\n",
      "Requirement already satisfied: packaging in /usr/local/lib/python3.7/dist-packages (from gpflow==2.5.2) (21.3)\n",
      "Requirement already satisfied: multipledispatch>=0.6 in /usr/local/lib/python3.7/dist-packages (from gpflow==2.5.2) (0.6.0)\n",
      "Requirement already satisfied: typing-extensions in /usr/local/lib/python3.7/dist-packages (from gpflow==2.5.2) (4.1.1)\n",
      "Requirement already satisfied: numpy in /usr/local/lib/python3.7/dist-packages (from gpflow==2.5.2) (1.21.6)\n",
      "Requirement already satisfied: tensorflow>=2.4.0 in /usr/local/lib/python3.7/dist-packages (from gpflow==2.5.2) (2.8.2+zzzcolab20220719082949)\n",
      "Requirement already satisfied: deprecated in /usr/local/lib/python3.7/dist-packages (from gpflow==2.5.2) (1.2.13)\n",
      "Requirement already satisfied: six in /usr/local/lib/python3.7/dist-packages (from multipledispatch>=0.6->gpflow==2.5.2) (1.15.0)\n",
      "Requirement already satisfied: protobuf<3.20,>=3.9.2 in /usr/local/lib/python3.7/dist-packages (from tensorflow>=2.4.0->gpflow==2.5.2) (3.17.3)\n",
      "Requirement already satisfied: wrapt>=1.11.0 in /usr/local/lib/python3.7/dist-packages (from tensorflow>=2.4.0->gpflow==2.5.2) (1.14.1)\n",
      "Requirement already satisfied: tensorboard<2.9,>=2.8 in /usr/local/lib/python3.7/dist-packages (from tensorflow>=2.4.0->gpflow==2.5.2) (2.8.0)\n",
      "Requirement already satisfied: gast>=0.2.1 in /usr/local/lib/python3.7/dist-packages (from tensorflow>=2.4.0->gpflow==2.5.2) (0.5.3)\n",
      "Requirement already satisfied: opt-einsum>=2.3.2 in /usr/local/lib/python3.7/dist-packages (from tensorflow>=2.4.0->gpflow==2.5.2) (3.3.0)\n",
      "Requirement already satisfied: h5py>=2.9.0 in /usr/local/lib/python3.7/dist-packages (from tensorflow>=2.4.0->gpflow==2.5.2) (3.1.0)\n",
      "Requirement already satisfied: keras-preprocessing>=1.1.1 in /usr/local/lib/python3.7/dist-packages (from tensorflow>=2.4.0->gpflow==2.5.2) (1.1.2)\n",
      "Requirement already satisfied: absl-py>=0.4.0 in /usr/local/lib/python3.7/dist-packages (from tensorflow>=2.4.0->gpflow==2.5.2) (1.2.0)\n",
      "Requirement already satisfied: tensorflow-estimator<2.9,>=2.8 in /usr/local/lib/python3.7/dist-packages (from tensorflow>=2.4.0->gpflow==2.5.2) (2.8.0)\n",
      "Requirement already satisfied: tensorflow-io-gcs-filesystem>=0.23.1 in /usr/local/lib/python3.7/dist-packages (from tensorflow>=2.4.0->gpflow==2.5.2) (0.26.0)\n",
      "Requirement already satisfied: astunparse>=1.6.0 in /usr/local/lib/python3.7/dist-packages (from tensorflow>=2.4.0->gpflow==2.5.2) (1.6.3)\n",
      "Requirement already satisfied: termcolor>=1.1.0 in /usr/local/lib/python3.7/dist-packages (from tensorflow>=2.4.0->gpflow==2.5.2) (1.1.0)\n",
      "Requirement already satisfied: libclang>=9.0.1 in /usr/local/lib/python3.7/dist-packages (from tensorflow>=2.4.0->gpflow==2.5.2) (14.0.1)\n",
      "Requirement already satisfied: grpcio<2.0,>=1.24.3 in /usr/local/lib/python3.7/dist-packages (from tensorflow>=2.4.0->gpflow==2.5.2) (1.47.0)\n",
      "Requirement already satisfied: flatbuffers>=1.12 in /usr/local/lib/python3.7/dist-packages (from tensorflow>=2.4.0->gpflow==2.5.2) (2.0)\n",
      "Requirement already satisfied: google-pasta>=0.1.1 in /usr/local/lib/python3.7/dist-packages (from tensorflow>=2.4.0->gpflow==2.5.2) (0.2.0)\n",
      "Requirement already satisfied: keras<2.9,>=2.8.0rc0 in /usr/local/lib/python3.7/dist-packages (from tensorflow>=2.4.0->gpflow==2.5.2) (2.8.0)\n",
      "Requirement already satisfied: wheel<1.0,>=0.23.0 in /usr/local/lib/python3.7/dist-packages (from astunparse>=1.6.0->tensorflow>=2.4.0->gpflow==2.5.2) (0.37.1)\n",
      "Requirement already satisfied: cached-property in /usr/local/lib/python3.7/dist-packages (from h5py>=2.9.0->tensorflow>=2.4.0->gpflow==2.5.2) (1.5.2)\n",
      "Requirement already satisfied: requests<3,>=2.21.0 in /usr/local/lib/python3.7/dist-packages (from tensorboard<2.9,>=2.8->tensorflow>=2.4.0->gpflow==2.5.2) (2.23.0)\n",
      "Requirement already satisfied: tensorboard-data-server<0.7.0,>=0.6.0 in /usr/local/lib/python3.7/dist-packages (from tensorboard<2.9,>=2.8->tensorflow>=2.4.0->gpflow==2.5.2) (0.6.1)\n",
      "Requirement already satisfied: tensorboard-plugin-wit>=1.6.0 in /usr/local/lib/python3.7/dist-packages (from tensorboard<2.9,>=2.8->tensorflow>=2.4.0->gpflow==2.5.2) (1.8.1)\n",
      "Requirement already satisfied: google-auth<3,>=1.6.3 in /usr/local/lib/python3.7/dist-packages (from tensorboard<2.9,>=2.8->tensorflow>=2.4.0->gpflow==2.5.2) (1.35.0)\n",
      "Requirement already satisfied: google-auth-oauthlib<0.5,>=0.4.1 in /usr/local/lib/python3.7/dist-packages (from tensorboard<2.9,>=2.8->tensorflow>=2.4.0->gpflow==2.5.2) (0.4.6)\n",
      "Requirement already satisfied: markdown>=2.6.8 in /usr/local/lib/python3.7/dist-packages (from tensorboard<2.9,>=2.8->tensorflow>=2.4.0->gpflow==2.5.2) (3.4.1)\n",
      "Requirement already satisfied: werkzeug>=0.11.15 in /usr/local/lib/python3.7/dist-packages (from tensorboard<2.9,>=2.8->tensorflow>=2.4.0->gpflow==2.5.2) (1.0.1)\n",
      "Requirement already satisfied: pyasn1-modules>=0.2.1 in /usr/local/lib/python3.7/dist-packages (from google-auth<3,>=1.6.3->tensorboard<2.9,>=2.8->tensorflow>=2.4.0->gpflow==2.5.2) (0.2.8)\n",
      "Requirement already satisfied: rsa<5,>=3.1.4 in /usr/local/lib/python3.7/dist-packages (from google-auth<3,>=1.6.3->tensorboard<2.9,>=2.8->tensorflow>=2.4.0->gpflow==2.5.2) (4.9)\n",
      "Requirement already satisfied: cachetools<5.0,>=2.0.0 in /usr/local/lib/python3.7/dist-packages (from google-auth<3,>=1.6.3->tensorboard<2.9,>=2.8->tensorflow>=2.4.0->gpflow==2.5.2) (4.2.4)\n",
      "Requirement already satisfied: requests-oauthlib>=0.7.0 in /usr/local/lib/python3.7/dist-packages (from google-auth-oauthlib<0.5,>=0.4.1->tensorboard<2.9,>=2.8->tensorflow>=2.4.0->gpflow==2.5.2) (1.3.1)\n",
      "Requirement already satisfied: importlib-metadata>=4.4 in /usr/local/lib/python3.7/dist-packages (from markdown>=2.6.8->tensorboard<2.9,>=2.8->tensorflow>=2.4.0->gpflow==2.5.2) (4.12.0)\n",
      "Requirement already satisfied: zipp>=0.5 in /usr/local/lib/python3.7/dist-packages (from importlib-metadata>=4.4->markdown>=2.6.8->tensorboard<2.9,>=2.8->tensorflow>=2.4.0->gpflow==2.5.2) (3.8.1)\n",
      "Requirement already satisfied: pyasn1<0.5.0,>=0.4.6 in /usr/local/lib/python3.7/dist-packages (from pyasn1-modules>=0.2.1->google-auth<3,>=1.6.3->tensorboard<2.9,>=2.8->tensorflow>=2.4.0->gpflow==2.5.2) (0.4.8)\n",
      "Requirement already satisfied: urllib3!=1.25.0,!=1.25.1,<1.26,>=1.21.1 in /usr/local/lib/python3.7/dist-packages (from requests<3,>=2.21.0->tensorboard<2.9,>=2.8->tensorflow>=2.4.0->gpflow==2.5.2) (1.24.3)\n",
      "Requirement already satisfied: chardet<4,>=3.0.2 in /usr/local/lib/python3.7/dist-packages (from requests<3,>=2.21.0->tensorboard<2.9,>=2.8->tensorflow>=2.4.0->gpflow==2.5.2) (3.0.4)\n",
      "Requirement already satisfied: certifi>=2017.4.17 in /usr/local/lib/python3.7/dist-packages (from requests<3,>=2.21.0->tensorboard<2.9,>=2.8->tensorflow>=2.4.0->gpflow==2.5.2) (2022.6.15)\n",
      "Requirement already satisfied: idna<3,>=2.5 in /usr/local/lib/python3.7/dist-packages (from requests<3,>=2.21.0->tensorboard<2.9,>=2.8->tensorflow>=2.4.0->gpflow==2.5.2) (2.10)\n",
      "Requirement already satisfied: oauthlib>=3.0.0 in /usr/local/lib/python3.7/dist-packages (from requests-oauthlib>=0.7.0->google-auth-oauthlib<0.5,>=0.4.1->tensorboard<2.9,>=2.8->tensorflow>=2.4.0->gpflow==2.5.2) (3.2.0)\n",
      "Requirement already satisfied: dm-tree in /usr/local/lib/python3.7/dist-packages (from tensorflow-probability>=0.12.0->gpflow==2.5.2) (0.1.7)\n",
      "Requirement already satisfied: decorator in /usr/local/lib/python3.7/dist-packages (from tensorflow-probability>=0.12.0->gpflow==2.5.2) (4.4.2)\n",
      "Requirement already satisfied: cloudpickle>=1.3 in /usr/local/lib/python3.7/dist-packages (from tensorflow-probability>=0.12.0->gpflow==2.5.2) (1.3.0)\n",
      "Requirement already satisfied: pyparsing!=3.0.5,>=2.0.2 in /usr/local/lib/python3.7/dist-packages (from packaging->gpflow==2.5.2) (3.0.9)\n",
      "Looking in indexes: https://pypi.org/simple, https://us-python.pkg.dev/colab-wheels/public/simple/\n",
      "Requirement already satisfied: pyproj in /usr/local/lib/python3.7/dist-packages (3.2.1)\n",
      "Requirement already satisfied: certifi in /usr/local/lib/python3.7/dist-packages (from pyproj) (2022.6.15)\n"
     ]
    }
   ],
   "source": [
    "!pip install gpflow==2.5.2\n",
    "!pip install pyproj\n",
    "# NOTE: installing cartopy via pip just to avoid import error\n",
    "# - cartopy should be installed via: conda install -c conda-forge cartopy\n",
    "# !pip install cartopy\n"
   ]
  },
  {
   "cell_type": "markdown",
   "metadata": {
    "id": "4HsodxyWW9Qx"
   },
   "source": [
    "config / parameters\n"
   ]
  },
  {
   "cell_type": "code",
   "execution_count": 3,
   "metadata": {
    "id": "m5afwNR9W8q1",
    "executionInfo": {
     "status": "ok",
     "timestamp": 1659432980334,
     "user_tz": -60,
     "elapsed": 9,
     "user": {
      "displayName": "Ronald MacEachern",
      "userId": "07664735399186169272"
     }
    }
   },
   "outputs": [],
   "source": [
    "branch_name = \"sparse_dev\"\n",
    "# directory on google drive where to \n",
    "# work_sub_dir = [\"MyDrive\", \"workspace\"]"
   ]
  },
  {
   "cell_type": "markdown",
   "metadata": {
    "id": "uJLFW9rgWK3x"
   },
   "source": [
    "mount google drive (use to save results)  - requires login"
   ]
  },
  {
   "cell_type": "code",
   "execution_count": 4,
   "metadata": {
    "colab": {
     "base_uri": "https://localhost:8080/"
    },
    "executionInfo": {
     "elapsed": 2259,
     "status": "ok",
     "timestamp": 1659432982585,
     "user": {
      "displayName": "Ronald MacEachern",
      "userId": "07664735399186169272"
     },
     "user_tz": -60
    },
    "id": "wJsq2he6RqVK",
    "outputId": "4620196f-22d9-4a05-f2bf-229a5de10795"
   },
   "outputs": [
    {
     "output_type": "stream",
     "name": "stdout",
     "text": [
      "Drive already mounted at /content/gdrive; to attempt to forcibly remount, call drive.mount(\"/content/gdrive\", force_remount=True).\n"
     ]
    }
   ],
   "source": [
    "import subprocess\n",
    "import json\n",
    "from google.colab import drive\n",
    "import os\n",
    "import sys\n",
    "\n",
    "\n",
    "gdrive_mount = '/content/gdrive'\n",
    "# # requires giving access to google drive account\n",
    "drive.mount(gdrive_mount)\n"
   ]
  },
  {
   "cell_type": "markdown",
   "metadata": {
    "id": "owtMH_NNWSqf"
   },
   "source": [
    "git pull repository"
   ]
  },
  {
   "cell_type": "code",
   "execution_count": 5,
   "metadata": {
    "colab": {
     "base_uri": "https://localhost:8080/"
    },
    "executionInfo": {
     "elapsed": 23,
     "status": "ok",
     "timestamp": 1659432982586,
     "user": {
      "displayName": "Ronald MacEachern",
      "userId": "07664735399186169272"
     },
     "user_tz": -60
    },
    "id": "hhW6ZpIpWN7o",
    "outputId": "cd00cde7-d115-4c12-8be8-6346d27901b0"
   },
   "outputs": [
    {
     "output_type": "stream",
     "name": "stdout",
     "text": [
      "Command '['git', 'clone', 'https://github.com/William-gregory/OptimalInterpolation.git']' returned non-zero exit status 128.\n",
      "changing directory to: /content/OptimalInterpolation\n"
     ]
    }
   ],
   "source": [
    "import re\n",
    "# change 'workspace' as needed\n",
    "# work_dir = os.path.join(gdrive_mount, *[\"MyDrive\", \"workspace\"])\n",
    "work_dir = \"/content\"\n",
    "\n",
    "# change to working directory\n",
    "# os.chdir(work_dir)\n",
    "assert os.path.exists(work_dir), f\"workspace directory: {work_dir} does not exist\"\n",
    "os.chdir(work_dir)\n",
    "\n",
    "# !git clone https://github.com/William-gregory/OptimalInterpolation.git\n",
    "# url suffix for cloning repp\n",
    "url = \"https://github.com/William-gregory/OptimalInterpolation.git\"\n",
    "\n",
    "# repository directory\n",
    "repo_dir = os.path.join(work_dir, os.path.basename(url))\n",
    "repo_dir = re.sub(\"\\.git$\", \"\", repo_dir)\n",
    "\n",
    "# TODO: put a try except here \n",
    "# clone the repo\n",
    "\n",
    "try:\n",
    "    git_clone = subprocess.check_output( [\"git\", \"clone\", url] , shell=False)\n",
    "except Exception as e:\n",
    "    # get non-zero exit status 128: if the repo already exists?\n",
    "    print(e)\n",
    "\n",
    "print(f\"changing directory to: {repo_dir}\")\n",
    "\n",
    "os.chdir(repo_dir)\n",
    "\n"
   ]
  },
  {
   "cell_type": "markdown",
   "metadata": {
    "id": "8j2KBZ0OZHBM"
   },
   "source": [
    "Change branch "
   ]
  },
  {
   "cell_type": "code",
   "execution_count": 6,
   "metadata": {
    "colab": {
     "base_uri": "https://localhost:8080/"
    },
    "executionInfo": {
     "elapsed": 17,
     "status": "ok",
     "timestamp": 1659432982586,
     "user": {
      "displayName": "Ronald MacEachern",
      "userId": "07664735399186169272"
     },
     "user_tz": -60
    },
    "id": "KOoGWoAYa83x",
    "outputId": "74242e88-caf8-4609-963b-3075893b751b"
   },
   "outputs": [
    {
     "output_type": "stream",
     "name": "stdout",
     "text": [
      "Your branch is up to date with 'origin/sparse_dev'.\n",
      "\n"
     ]
    }
   ],
   "source": [
    "# --\n",
    "# change branch - review this\n",
    "# --\n",
    "\n",
    "try:\n",
    "    git_checkout = subprocess.check_output([\"git\", \"checkout\", \"-t\", f\"origin/{branch_name}\"], shell=False)\n",
    "    print(git_checkout.decode(\"utf-8\") )\n",
    "except Exception as e:\n",
    "    git_checkout = subprocess.check_output([\"git\", \"checkout\",  f\"{branch_name}\"], shell=False)\n",
    "    print(git_checkout.decode(\"utf-8\") )\n",
    "\n",
    "\n"
   ]
  },
  {
   "cell_type": "code",
   "execution_count": 7,
   "metadata": {
    "colab": {
     "base_uri": "https://localhost:8080/"
    },
    "executionInfo": {
     "elapsed": 13,
     "status": "ok",
     "timestamp": 1659432982587,
     "user": {
      "displayName": "Ronald MacEachern",
      "userId": "07664735399186169272"
     },
     "user_tz": -60
    },
    "id": "cvJbokw2kKng",
    "outputId": "e023d3e8-20e9-4789-c9df-9170659dfcaa"
   },
   "outputs": [
    {
     "output_type": "stream",
     "name": "stdout",
     "text": [
      "Already up to date.\n",
      "\n"
     ]
    }
   ],
   "source": [
    "# git pull to ensure have the latest\n",
    "git_pull = subprocess.check_output([\"git\", \"pull\"], shell=False)\n",
    "print(git_pull.decode(\"utf-8\") )"
   ]
  },
  {
   "cell_type": "code",
   "execution_count": 8,
   "metadata": {
    "id": "hadf_YaoZXNq",
    "executionInfo": {
     "status": "ok",
     "timestamp": 1659432982588,
     "user_tz": -60,
     "elapsed": 9,
     "user": {
      "displayName": "Ronald MacEachern",
      "userId": "07664735399186169272"
     }
    }
   },
   "outputs": [],
   "source": [
    "# add directory to containing repository to sys.path, so can import as a package\n",
    "# if repo_dir not in sys.path:\n",
    "#     # tmp_dir = os.path.dirname(repo_dir)\n",
    "#     print(f\"adding {repo_dir} to sys.path\")\n",
    "#     sys.path.extend([])\n",
    "\n",
    "if work_dir not in sys.path:\n",
    "    # tmp_dir = os.path.dirname(repo_dir)\n",
    "    print(f\"adding {work_dir} to sys.path\")\n",
    "    sys.path.extend([work_dir])"
   ]
  },
  {
   "cell_type": "code",
   "execution_count": 9,
   "metadata": {
    "colab": {
     "base_uri": "https://localhost:8080/"
    },
    "executionInfo": {
     "elapsed": 395,
     "status": "ok",
     "timestamp": 1659432982974,
     "user": {
      "displayName": "Ronald MacEachern",
      "userId": "07664735399186169272"
     },
     "user_tz": -60
    },
    "id": "ZJzPX1NuF8cV",
    "outputId": "91d78fe8-ff50-4a27-ed5e-b6bd174b4a37"
   },
   "outputs": [
    {
     "output_type": "stream",
     "name": "stdout",
     "text": [
      "will try downloading the zipped version\n"
     ]
    }
   ],
   "source": [
    "# TODO: only downlaod if it does not already exist\n",
    "import gdown\n",
    "import zipfile\n",
    "\n",
    "# print(\"there was some sort of issue downloading the entire folder structure\")\n",
    "print(\"will try downloading the zipped version\")\n",
    "# url = \"https://drive.google.com/file/d/1c7h6HTT-wbCq_ZKBYLJSSln4tanlLEMZ\"\n",
    "# id = \"1c7h6HTT-wbCq_ZKBYLJSSln4tanlLEMZ\"\n",
    "\n",
    "\n",
    "data_dir = os.path.join(repo_dir, \"data\")\n",
    "os.makedirs(data_dir, exist_ok=True)\n",
    "\n",
    "# https://drive.google.com/file/d/1djlaZ2EKbm9pNAEt3w58WJtBA4NyQsNE/view?usp=sharing\n",
    "id_zip = [\n",
    "    # {\"id\": \"1ckoowmCwh4tG76sIxXZuVaSSQ0tv8KTU\", \"zip\": \"auxiliary.zip\", \"dirname\": \"aux\"},\n",
    "    {\"id\": \"1djlaZ2EKbm9pNAEt3w58WJtBA4NyQsNE\", \"zip\": \"new_aux.zip\", \"dirname\": \"aux\"},\n",
    "    {\"id\": \"1cIh9lskzmL6C7EYV8lmJJ5YaJgKqOZHT\", \"zip\": \"CS2S3_CPOM.zip\", \"dirname\": \"CS2S3_CPOM\"},\n",
    "    {\"id\": \"1gXsvtxZcWpBALomgeqn9kcfyCtKD3fkz\", \"zip\": \"raw_along_track.zip\", \"dirname\": \"RAW\"},\n",
    "    # legacy data\n",
    "    # {\"id\": \"1HcKZD_F3esIPc2NbWlexvXbVOSAlso9m\", \"zip\": \"aux_legacy.zip\", \"dirname\": \"aux\"},\n",
    "    # {\"id\": \"1Kekh43yTDVJXfSjUrPDV6ZEXXIJhzdXC\", \"zip\": \"CS2S3_CPOM_legacy.zip\", \"dirname\": \"CS2S3_CPOM\"},\n",
    "]\n",
    "\n",
    "# TODO: check if output dir already exists: aux and CS2S3_CPOM\n",
    "for _ in id_zip:\n",
    "    id = _['id']\n",
    "    zip = _['zip']\n",
    "    dirn = _.get('dirname', \"\")\n",
    "\n",
    "    if os.path.exists(os.path.join(data_dir, dirn)):\n",
    "        # print(f\"dir{}\")\n",
    "        continue\n",
    "    # put data in data dir in repository\n",
    "    output = os.path.join(data_dir, zip)\n",
    "    gdown.download(id=id, output=output, use_cookies=False)\n",
    "\n",
    "    # un zip to path\n",
    "    print(\"unzipping\")\n",
    "    with zipfile.ZipFile(output, 'r') as zip_ref:\n",
    "        zip_ref.extractall(path=data_dir)\n",
    "\n"
   ]
  },
  {
   "cell_type": "code",
   "execution_count": 10,
   "metadata": {
    "id": "IUXf8f_DGFqM",
    "executionInfo": {
     "status": "ok",
     "timestamp": 1659432982975,
     "user_tz": -60,
     "elapsed": 11,
     "user": {
      "displayName": "Ronald MacEachern",
      "userId": "07664735399186169272"
     }
    }
   },
   "outputs": [],
   "source": [
    "import os\n"
   ]
  },
  {
   "cell_type": "code",
   "execution_count": 11,
   "metadata": {
    "id": "_-0IB2pue-_G",
    "executionInfo": {
     "status": "ok",
     "timestamp": 1659432982977,
     "user_tz": -60,
     "elapsed": 11,
     "user": {
      "displayName": "Ronald MacEachern",
      "userId": "07664735399186169272"
     }
    }
   },
   "outputs": [],
   "source": [
    "# change to repo_dir so can get git info\n",
    "os.chdir(repo_dir)\n",
    "\n",
    "# set output directory\n",
    "# output_base_dir = os.path.join(gdrive_mount, \"MyDrive\", \"Dissertation\")"
   ]
  },
  {
   "cell_type": "code",
   "execution_count": null,
   "metadata": {
    "id": "EUARB7I3i4EZ"
   },
   "outputs": [],
   "source": [
    "\n",
    "# ------------------------------------------------------------\n",
    "# ------------------------------------------------------------\n",
    "# \n",
    "#                   SCRIPT STARTS HERE\n",
    "#\n",
    "# ------------------------------------------------------------\n",
    "# ------------------------------------------------------------\n",
    "\n",
    "\n",
    "# calculate the hyper-parameters for GP on freeboard cover using a config\n",
    "# - date(s)\n",
    "# - window size\n",
    "# - radius of inclusion\n",
    "# - freeboard season\n",
    "\n",
    "import warnings\n",
    "import json\n",
    "import os\n",
    "import re\n",
    "import datetime\n",
    "import subprocess\n",
    "import matplotlib.pyplot as plt\n",
    "import numpy as np\n",
    "import pandas as pd\n",
    "from scipy import stats\n",
    "from scipy.spatial.distance import squareform, pdist, cdist\n",
    "import scipy.optimize\n",
    "import gpflow\n",
    "from gpflow.utilities import print_summary\n",
    "import tensorflow as tf\n",
    "import tensorflow_probability as tfp\n",
    "\n",
    "import time\n",
    "from OptimalInterpolation import get_data_path, get_path\n",
    "from OptimalInterpolation.sea_ice_freeboard import SeaIceFreeboard\n",
    "\n",
    "from OptimalInterpolation.utils import EASE2toWGS84_New, get_git_information, move_to_archive\n",
    "\n",
    "\n"
   ]
  },
  {
   "cell_type": "code",
   "execution_count": null,
   "metadata": {
    "id": "c5lfUfn2mI8g",
    "pycharm": {
     "name": "#%%\n"
    }
   },
   "outputs": [],
   "source": [
    "\n",
    "\n",
    "\n",
    "# #  change output_base_dir as needed\n",
    "# output_base_dir = get_path(\"results\")\n",
    "output_base_dir = os.path.join(gdrive_mount, \"MyDrive\", \"Dissertation\")\n",
    "\n",
    "\n",
    "# ---\n",
    "# input config\n",
    "# ---\n",
    "\n",
    "\n",
    "config = {\n",
    "    \"dates\": [\"20181202\"],#[\"20181201\"],#, \"20190101\", \"20190201\", \"20190301\"],\n",
    "    \"optimise\": True,\n",
    "    \"file_suffix\": \"_repeat\",\n",
    "    \"output_dir\": os.path.join(output_base_dir, \"refactor_svgp2\"),\n",
    "    \"inclusion_radius\": 300,\n",
    "    \"days_ahead\": 4,\n",
    "    \"days_behind\": 4,\n",
    "    \"data_dir\": \"package\",\n",
    "    \"season\": \"2018-2019\",\n",
    "    \"grid_res\": 50,\n",
    "    \"coarse_grid_spacing\": 1,\n",
    "    \"min_inputs\": 5,\n",
    "    \"verbose\": 1,\n",
    "    \"engine\": \"GPflow_svgp\",\n",
    "    \"kernel\": \"Matern32\",\n",
    "    # \"prior_mean_method\": \"demean_outputs\",\n",
    "    # \"mean_function\": \"constant\",\n",
    "    # \"hold_out\": [\"S3B\", \"S3A\", \"CS2_SAR\", None],\n",
    "    \"hold_out\": None,\n",
    "    \"load_params\": True,\n",
    "    \"predict_on_hold\": True,\n",
    "    \"scale_inputs\": True,\n",
    "    \"scale_outputs\": False,\n",
    "    \"bound_length_scales\": True,\n",
    "    \"append_to_file\": True,\n",
    "    \"overwrite\": False,\n",
    "    \"post_process\": {\n",
    "        \"prev_results_dir\": None,\n",
    "        \"prev_results_file\": None,\n",
    "        \"clip_and_smooth\": True,\n",
    "        \"vmax_map\": {\n",
    "            \"ls_x\": 2 * 300 * 1000,\n",
    "            \"ls_y\": 2 * 300 * 1000,\n",
    "            \"ls_t\": 9,\n",
    "            \"kernel_variance\": 0.1,\n",
    "            \"likelihood_variance\": 0.05\n",
    "        },\n",
    "        \"vmin_map\": {\n",
    "            \"ls_x\": 1,\n",
    "            \"ls_y\": 1,\n",
    "            \"ls_t\": 1e-6,\n",
    "            \"kernel_variance\": 2e-6,\n",
    "            \"likelihood_variance\": 2e-6\n",
    "        }\n",
    "    },\n",
    "    \"inducing_point_params\": {\n",
    "        \"num_inducing_points\": 500,\n",
    "        \"min_obs_for_svgp\": 5000\n",
    "        },\n",
    "    # when not using minbatch can use a low (150?) number for maxiter\n",
    "    \"optimise_params\": {\n",
    "        \"use_minibatch\": False,\n",
    "        \"gamma\": 1.0,\n",
    "        \"learning_rate\": 0.07,\n",
    "        \"trainable_inducing_variable\": False,\n",
    "        \"minibatch_size\": 2000,\n",
    "        \"maxiter\": 120,\n",
    "        \"log_freq\": 10,\n",
    "        \"persistence\": 10,\n",
    "        \"early_stop\": True,\n",
    "        \"save_best\": True\n",
    "    }\n",
    "}\n",
    "\n",
    "# ---\n",
    "# parameters\n",
    "# ---\n",
    "\n",
    "print(\"using config:\")\n",
    "print(json.dumps(config, indent=4))\n",
    "\n",
    "# extract parameters from config\n",
    "\n",
    "season = config.get(\"season\", \"2018-2019\")\n",
    "assert season == \"2018-2019\", \"only can handle data inputs from '2018-2019' season at the moment\"\n",
    "\n",
    "dates = config['dates']\n",
    "output_dir = config['output_dir']\n",
    "optimise = config.get('optimise', False)\n",
    "days_ahead = config.get(\"days_ahead\", 4)\n",
    "days_behind = config.get(\"days_behind\", 4)\n",
    "season = config.get(\"season\", \"2018-2019\")\n",
    "data_dir = config.get(\"data_dir\", \"package\")\n",
    "\n",
    "incl_rad = config.get(\"inclusion_radius\", 300)\n",
    "grid_res = config.get(\"grid_res\", 25)\n",
    "coarse_grid_spacing = config.get(\"coarse_grid_spacing\", 1)\n",
    "min_inputs = config.get(\"min_inputs\", 10)\n",
    "# min sea ice cover - when loading data set sie to nan if < min_sie\n",
    "min_sie = config.get(\"min_sie\", 0.15)\n",
    "\n",
    "engine = config.get(\"engine\", \"GPflow\")\n",
    "kernel = config.get(\"kernel\", \"Matern32\")\n",
    "prior_mean_method = config.get(\"prior_mean_method\", \"fyi_average\")\n",
    "hold_out = config.get(\"hold_out\", None)\n",
    "\n",
    "scale_inputs = config.get(\"scale_inputs\", False)\n",
    "scale_inputs = [1 / (grid_res * 1000), 1 / (grid_res * 1000), 1.0] if scale_inputs else [1.0, 1.0, 1.0]\n",
    "\n",
    "scale_outputs = config.get(\"scale_outputs\", False)\n",
    "scale_outputs = 100. if scale_outputs else 1.\n",
    "\n",
    "append_to_file = config.get(\"append_to_file\", True)\n",
    "overwrite = config.get(\"overwrite\", True)\n",
    "\n",
    "# use holdout location as GP location selection criteria (in addition to coarse_grid_spacing, etc)\n",
    "pred_on_hold_out = config.get(\"predict_on_hold\", True)\n",
    "\n",
    "bound_length_scales = config.get(\"bound_length_scales\", True)\n",
    "\n",
    "mean_function = config.get(\"mean_function\", None)\n",
    "file_suffix = config.get(\"file_suffix\", \"\")\n",
    "post_process_config = config.get(\"post_process\", {})\n",
    "\n",
    "load_params = config.get(\"load_params\", False)\n",
    "\n",
    "\n",
    "inducing_point_params = config.get(\"inducing_point_params\", {})\n",
    "\n",
    "optimise_params = config.get(\"optimise_params\", {})\n",
    "\n",
    "# -----\n",
    "# initialise SeaIceFreeboard object\n",
    "# -----\n",
    "\n",
    "sifb = SeaIceFreeboard(grid_res=f\"{grid_res}km\",\n",
    "                       length_scale_name=[\"x\", \"y\", \"t\"],\n",
    "                       verbose=3,\n",
    "                       rng_seed=1234)\n",
    "\n",
    "# ---\n",
    "# read / load data\n",
    "# ---\n",
    "\n",
    "if data_dir == \"package\":\n",
    "    data_dir = get_data_path()\n",
    "\n",
    "assert os.path.exists(data_dir)\n",
    "\n",
    "sifb.load_data(aux_data_dir=os.path.join(data_dir, \"aux\"),\n",
    "                sat_data_dir=os.path.join(data_dir, \"CS2S3_CPOM\"),\n",
    "                raw_data_dir=os.path.join(data_dir, \"RAW\"),\n",
    "                season=season)\n",
    "\n",
    "\n",
    "# increment over hold_out (e.g. don't combine)\n",
    "if hold_out is None:\n",
    "    hold_outs = [None]\n",
    "else:\n",
    "    if isinstance(hold_out, str):\n",
    "        hold_outs = [hold_out]\n",
    "    else:\n",
    "        hold_outs = hold_out\n",
    "\n",
    "for hold_out in hold_outs:\n",
    "    print(\"-\" * 100)\n",
    "    print(f\"hold_out: {hold_out}\")\n",
    "    print(\"-\" * 10)\n",
    "\n",
    "    for date in dates:\n",
    "        print(\"#\" * 100)\n",
    "        print(f\"date: {date}\")\n",
    "        print(\"#\" * 10)\n",
    "\n",
    "        sifb.run(date=date,\n",
    "                 output_dir=output_dir,\n",
    "                 days_ahead=days_ahead,\n",
    "                 days_behind=days_behind,\n",
    "                 incl_rad=incl_rad,\n",
    "                 grid_res=grid_res,\n",
    "                 coarse_grid_spacing=coarse_grid_spacing,\n",
    "                 min_inputs=min_inputs,\n",
    "                 min_sie=min_sie,\n",
    "                 engine=engine,\n",
    "                 kernel=kernel,\n",
    "                 overwrite=overwrite,\n",
    "                 load_params=load_params,\n",
    "                 prior_mean_method=prior_mean_method,\n",
    "                 optimise=optimise,\n",
    "                 season=season,\n",
    "                 hold_out=hold_out,\n",
    "                 scale_inputs=scale_inputs,\n",
    "                 scale_outputs=scale_outputs,\n",
    "                 append_to_file=append_to_file,\n",
    "                 pred_on_hold_out=pred_on_hold_out,\n",
    "                 bound_length_scales=bound_length_scales,\n",
    "                 mean_function=mean_function,\n",
    "                 file_suffix=file_suffix,\n",
    "                 post_process=post_process_config,\n",
    "                 print_every=50,\n",
    "                 inducing_point_params=inducing_point_params,\n",
    "                 optimise_params=optimise_params)\n"
   ]
  },
  {
   "cell_type": "code",
   "execution_count": null,
   "metadata": {
    "id": "-tz_IrYw0J0u"
   },
   "outputs": [],
   "source": [
    "\n"
   ]
  },
  {
   "cell_type": "markdown",
   "metadata": {
    "id": "13qvUFdXv_N2"
   },
   "source": [
    ""
   ]
  },
  {
   "cell_type": "markdown",
   "metadata": {
    "id": "B2CLs0Pkveox"
   },
   "source": [
    ""
   ]
  },
  {
   "cell_type": "code",
   "execution_count": null,
   "metadata": {
    "id": "NseagXZGpt6F"
   },
   "outputs": [],
   "source": [
    "# new_res_dir = os.path.join(gdrive, \"refactored\")\n",
    "# os.makedirs(new_res_dir)"
   ]
  },
  {
   "cell_type": "code",
   "execution_count": null,
   "metadata": {
    "id": "K2BPIr4Dp1ow"
   },
   "outputs": [],
   "source": [
    "# chk = subprocess.check_output(['cp', '-r', results_dir, gdrive], shell=False)"
   ]
  },
  {
   "cell_type": "code",
   "execution_count": null,
   "metadata": {
    "id": "21wMqKBkqI7G"
   },
   "outputs": [],
   "source": [
    "# chk"
   ]
  },
  {
   "cell_type": "code",
   "execution_count": null,
   "metadata": {
    "id": "cod5QvynqSqJ"
   },
   "outputs": [],
   "source": [
    ""
   ]
  }
 ],
 "metadata": {
  "accelerator": "GPU",
  "colab": {
   "background_execution": "on",
   "collapsed_sections": [],
   "name": "seaice_freeboard_opt_interp_run.ipynb",
   "provenance": [
    {
     "file_id": "15zf7Vqs2q6bfQmB63ipbmTyNR87b3S-B",
     "timestamp": 1658412032111
    },
    {
     "file_id": "1loKnkJaWurjyJTMnY3NUxhd0MFV4CY2Y",
     "timestamp": 1657627709145
    },
    {
     "file_id": "1KFyT-qTCfCeuSJOcHeloi-G8bEFhLYPi",
     "timestamp": 1656505856596
    },
    {
     "file_id": "1N555Ryz9fXh9VcusUlnBQeuVN5SKbJ-j",
     "timestamp": 1656358218472
    },
    {
     "file_id": "1DkUOseqsfcIN8v4664so26ZRdZ-CIrFl",
     "timestamp": 1656078023486
    },
    {
     "file_id": "1SZM0Qraox8Tl_K_emCR-37N06HHcUAYO",
     "timestamp": 1655554696866
    },
    {
     "file_id": "16zNmTA28CBYBT52881GZl0gQ5xG3HdmW",
     "timestamp": 1655309610540
    }
   ],
   "authorship_tag": "ABX9TyMA5oK7Bz4yh8SsddHwZPy9"
  },
  "gpuClass": "standard",
  "kernelspec": {
   "display_name": "Python 3",
   "name": "python3"
  },
  "language_info": {
   "name": "python"
  }
 },
 "nbformat": 4,
 "nbformat_minor": 0
}